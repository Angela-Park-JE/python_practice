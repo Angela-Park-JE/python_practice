{
 "cells": [
  {
   "cell_type": "code",
   "execution_count": 56,
   "id": "c7ae0840",
   "metadata": {
    "ExecuteTime": {
     "end_time": "2022-03-25T00:18:09.443916Z",
     "start_time": "2022-03-25T00:18:06.561842Z"
    }
   },
   "outputs": [
    {
     "name": "stdout",
     "output_type": "stream",
     "text": [
      "[{'name': 'Ace', 'age': 87}, {'name': 'Bella', 'age': 10}]\n",
      "[{'name': 'Bella', 'age': 10}, {'name': 'Ace', 'age': 87}]\n",
      "[{'name': 'Ace', 'age': 87}, {'name': 'Bella', 'age': 10}]\n",
      "[{'name': 'Bella', 'age': 10}, {'name': 'Ace', 'age': 87}]\n"
     ]
    }
   ],
   "source": [
    "li = [{'name':'Ace', 'age':87}, {'name':'Bella', 'age':10}]\n",
    "\n",
    "# name을 기준으로 사전순 정렬\n",
    "print(sorted(li , key= lambda x: x['name'])) \n",
    "## Output : [{'name': 'Ace', 'age': 87}, {'name': 'Bella', 'age': 10}]\n",
    "\n",
    "# name을 기준으로 사전 역순으로 정렬\n",
    "print(sorted(li , key= lambda x: x['name'], reverse=True)) \n",
    "## Output : [{'name': 'Ace', 'age': 87}, {'name': 'Bella', 'age': 10}]\n",
    "\n",
    "\n",
    "from operator import itemgetter\n",
    "# itemgetter이용 name 기준으로 사전순 정렬\n",
    "print(sorted(li, key=itemgetter('name')))\n",
    "## Output : [{'name': 'Ace', 'age': 87}, {'name': 'Bella', 'age': 10}]\n",
    "\n",
    "# age 기준으로 사전순 정렬 (숫자도 가능)\n",
    "print(sorted(li, key=itemgetter('age')))\n",
    "## Output : [{'name': 'Bella', 'age': 10}, {'name': 'Ace', 'age': 87}]"
   ]
  },
  {
   "cell_type": "markdown",
   "id": "f828bde9",
   "metadata": {},
   "source": [
    "## 개별 코드 실행"
   ]
  },
  {
   "cell_type": "markdown",
   "id": "f5c44804",
   "metadata": {},
   "source": [
    "### li 정의 "
   ]
  },
  {
   "cell_type": "code",
   "execution_count": 57,
   "id": "fd239359",
   "metadata": {
    "ExecuteTime": {
     "end_time": "2022-03-25T00:18:09.446667Z",
     "start_time": "2022-03-25T00:18:09.445161Z"
    }
   },
   "outputs": [],
   "source": [
    "li = [{'name':'Ace', 'age':87}, {'name':'Bella', 'age':10}]"
   ]
  },
  {
   "cell_type": "markdown",
   "id": "37ff6036",
   "metadata": {},
   "source": [
    "### lambda 이용"
   ]
  },
  {
   "cell_type": "code",
   "execution_count": 58,
   "id": "9242ff45",
   "metadata": {
    "ExecuteTime": {
     "end_time": "2022-03-25T00:18:09.449611Z",
     "start_time": "2022-03-25T00:18:09.447688Z"
    }
   },
   "outputs": [
    {
     "data": {
      "text/plain": [
       "[{'name': 'Ace', 'age': 87}, {'name': 'Bella', 'age': 10}]"
      ]
     },
     "execution_count": 58,
     "metadata": {},
     "output_type": "execute_result"
    }
   ],
   "source": [
    "sorted(li , key= lambda x: x['name'])"
   ]
  },
  {
   "cell_type": "markdown",
   "id": "16ee5ef8",
   "metadata": {},
   "source": [
    "### lambda 이용 - reverse=True (역순)"
   ]
  },
  {
   "cell_type": "code",
   "execution_count": 59,
   "id": "9b010948",
   "metadata": {
    "ExecuteTime": {
     "end_time": "2022-03-25T00:18:09.452524Z",
     "start_time": "2022-03-25T00:18:09.450456Z"
    }
   },
   "outputs": [
    {
     "data": {
      "text/plain": [
       "[{'name': 'Bella', 'age': 10}, {'name': 'Ace', 'age': 87}]"
      ]
     },
     "execution_count": 59,
     "metadata": {},
     "output_type": "execute_result"
    }
   ],
   "source": [
    "sorted(li , key= lambda x: x['name'], reverse=True)"
   ]
  },
  {
   "cell_type": "markdown",
   "id": "3eb81c0f",
   "metadata": {},
   "source": [
    "### itemgetter 이용"
   ]
  },
  {
   "cell_type": "code",
   "execution_count": 60,
   "id": "99fb1780",
   "metadata": {
    "ExecuteTime": {
     "end_time": "2022-03-25T00:18:09.455213Z",
     "start_time": "2022-03-25T00:18:09.453256Z"
    }
   },
   "outputs": [
    {
     "data": {
      "text/plain": [
       "[{'name': 'Ace', 'age': 87}, {'name': 'Bella', 'age': 10}]"
      ]
     },
     "execution_count": 60,
     "metadata": {},
     "output_type": "execute_result"
    }
   ],
   "source": [
    "from operator import itemgetter\n",
    "sorted(li, key=itemgetter('name'))"
   ]
  },
  {
   "cell_type": "code",
   "execution_count": 61,
   "id": "bf10c255",
   "metadata": {
    "ExecuteTime": {
     "end_time": "2022-03-25T00:18:09.458314Z",
     "start_time": "2022-03-25T00:18:09.455982Z"
    }
   },
   "outputs": [
    {
     "data": {
      "text/plain": [
       "[{'name': 'Bella', 'age': 10}, {'name': 'Ace', 'age': 87}]"
      ]
     },
     "execution_count": 61,
     "metadata": {},
     "output_type": "execute_result"
    }
   ],
   "source": [
    "sorted(li, key=itemgetter('age'))"
   ]
  },
  {
   "cell_type": "markdown",
   "id": "81ef35b6",
   "metadata": {},
   "source": [
    "## 성능 비교"
   ]
  },
  {
   "cell_type": "code",
   "execution_count": 63,
   "id": "4fff2e81",
   "metadata": {
    "ExecuteTime": {
     "end_time": "2022-03-25T00:18:12.264190Z",
     "start_time": "2022-03-25T00:18:12.252818Z"
    }
   },
   "outputs": [
    {
     "data": {
      "text/plain": [
       "2097152"
      ]
     },
     "execution_count": 63,
     "metadata": {},
     "output_type": "execute_result"
    }
   ],
   "source": [
    "len(li)"
   ]
  },
  {
   "cell_type": "code",
   "execution_count": 68,
   "id": "acef7d63",
   "metadata": {
    "ExecuteTime": {
     "end_time": "2022-03-25T00:18:41.662160Z",
     "start_time": "2022-03-25T00:18:40.207469Z"
    }
   },
   "outputs": [
    {
     "name": "stdout",
     "output_type": "stream",
     "text": [
      "177 ms ± 593 µs per loop (mean ± std. dev. of 7 runs, 1 loop each)\n"
     ]
    }
   ],
   "source": [
    "%%timeit\n",
    "sorted(li , key= lambda x: x['name'])"
   ]
  },
  {
   "cell_type": "code",
   "execution_count": 65,
   "id": "8cd1806d",
   "metadata": {
    "ExecuteTime": {
     "end_time": "2022-03-25T00:18:31.981145Z",
     "start_time": "2022-03-25T00:18:19.938266Z"
    }
   },
   "outputs": [
    {
     "name": "stdout",
     "output_type": "stream",
     "text": [
      "148 ms ± 300 µs per loop (mean ± std. dev. of 7 runs, 10 loops each)\n"
     ]
    }
   ],
   "source": [
    "%%timeit\n",
    "sorted(li, key=itemgetter('name'))"
   ]
  }
 ],
 "metadata": {
  "kernelspec": {
   "display_name": "Python 3",
   "language": "python",
   "name": "python3"
  },
  "language_info": {
   "codemirror_mode": {
    "name": "ipython",
    "version": 3
   },
   "file_extension": ".py",
   "mimetype": "text/x-python",
   "name": "python",
   "nbconvert_exporter": "python",
   "pygments_lexer": "ipython3",
   "version": "3.8.12"
  },
  "toc": {
   "base_numbering": 1,
   "nav_menu": {},
   "number_sections": true,
   "sideBar": true,
   "skip_h1_title": false,
   "title_cell": "Table of Contents",
   "title_sidebar": "Contents",
   "toc_cell": false,
   "toc_position": {},
   "toc_section_display": true,
   "toc_window_display": false
  }
 },
 "nbformat": 4,
 "nbformat_minor": 5
}
