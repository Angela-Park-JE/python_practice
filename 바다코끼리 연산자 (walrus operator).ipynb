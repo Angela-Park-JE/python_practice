{
 "cells": [
  {
   "cell_type": "markdown",
   "id": "53ee70f8",
   "metadata": {},
   "source": [
    "## 기초 예시"
   ]
  },
  {
   "cell_type": "code",
   "execution_count": 60,
   "id": "34f50481",
   "metadata": {
    "ExecuteTime": {
     "end_time": "2022-04-07T17:03:11.546326Z",
     "start_time": "2022-04-07T17:03:11.535802Z"
    }
   },
   "outputs": [
    {
     "name": "stdout",
     "output_type": "stream",
     "text": [
      "walrus eat kimchi\n",
      "True\n"
     ]
    }
   ],
   "source": [
    "s='walrus eat kimchi' ## s에 문자열을 할당\n",
    "result = 'walrus' in s ## 'walrus' in s를 result에 할당\n",
    "if result: ## result가 True라면\n",
    "    print(s) ## s 출력\n",
    "    print(result) ## result 출력"
   ]
  },
  {
   "cell_type": "code",
   "execution_count": 61,
   "id": "371f142e",
   "metadata": {
    "ExecuteTime": {
     "end_time": "2022-04-07T17:03:11.842338Z",
     "start_time": "2022-04-07T17:03:11.840332Z"
    }
   },
   "outputs": [
    {
     "name": "stdout",
     "output_type": "stream",
     "text": [
      "walrus eat kimchi\n",
      "True\n"
     ]
    }
   ],
   "source": [
    "## s에 문자열을 할당하고, 'walrus' in s를 result에 할당하고, result가 True 라면\n",
    "if result := 'walrus' in (s := 'walrus eat kimchi'):\n",
    "    print(s)  ## s 출력\n",
    "    print(result) ## result 출력"
   ]
  },
  {
   "cell_type": "markdown",
   "id": "3b184adf",
   "metadata": {},
   "source": [
    "## 활용 예시"
   ]
  },
  {
   "cell_type": "code",
   "execution_count": 59,
   "id": "21afd32d",
   "metadata": {
    "ExecuteTime": {
     "end_time": "2022-04-07T17:03:09.454980Z",
     "start_time": "2022-04-07T17:03:09.446617Z"
    }
   },
   "outputs": [
    {
     "name": "stdout",
     "output_type": "stream",
     "text": [
      "[0, 1, 2, 3, 4, 5, 6, 7, 8, 9]\n",
      "0 9\n"
     ]
    }
   ],
   "source": [
    "li=[] # 빈리스트 생성\n",
    "for i in range(10):\n",
    "    if i==0:\n",
    "        start=i # start에 초기값 할당\n",
    "    if i==9:\n",
    "        end=i # end에 마지막값 할당\n",
    "    li.append(i) # 차례대로 리스트에 삽입\n",
    "print(li) # 리스트 출력\n",
    "print(start,end) # start, end 출력"
   ]
  },
  {
   "cell_type": "code",
   "execution_count": 58,
   "id": "80c23aa5",
   "metadata": {
    "ExecuteTime": {
     "end_time": "2022-04-07T16:56:30.290510Z",
     "start_time": "2022-04-07T16:56:30.279970Z"
    }
   },
   "outputs": [
    {
     "name": "stdout",
     "output_type": "stream",
     "text": [
      "[0, 1, 2, 3, 4, 5, 6, 7, 8, 9]\n",
      "0 9\n"
     ]
    }
   ],
   "source": [
    "## 리스트를 만듬과 동시에 i가 0일때 start에 0을 , end에 9를 할당\n",
    "li = [(end:=i) if i else (start:=i) for i in range(10)]\n",
    "print(li) # 리스트 출력\n",
    "print(start, end) # start, end 출력"
   ]
  }
 ],
 "metadata": {
  "kernelspec": {
   "display_name": "Python 3",
   "language": "python",
   "name": "python3"
  },
  "language_info": {
   "codemirror_mode": {
    "name": "ipython",
    "version": 3
   },
   "file_extension": ".py",
   "mimetype": "text/x-python",
   "name": "python",
   "nbconvert_exporter": "python",
   "pygments_lexer": "ipython3",
   "version": "3.8.12"
  },
  "toc": {
   "base_numbering": 1,
   "nav_menu": {},
   "number_sections": true,
   "sideBar": true,
   "skip_h1_title": false,
   "title_cell": "Table of Contents",
   "title_sidebar": "Contents",
   "toc_cell": false,
   "toc_position": {},
   "toc_section_display": true,
   "toc_window_display": false
  }
 },
 "nbformat": 4,
 "nbformat_minor": 5
}
