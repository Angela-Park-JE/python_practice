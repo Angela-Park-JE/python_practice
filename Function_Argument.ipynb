{
 "cells": [
  {
   "cell_type": "markdown",
   "id": "9f3722dd",
   "metadata": {},
   "source": [
    "    one은 그냥 argument \n",
    "    two=3을 default argument : 기본값이 있는 argument\n",
    "    *args : 가변인자 (Variable-length)\n",
    "    **kwargs : 키워드 가변인자 (Keyword variable-length)"
   ]
  },
  {
   "cell_type": "code",
   "execution_count": 1,
   "id": "ae80259c",
   "metadata": {
    "ExecuteTime": {
     "end_time": "2022-04-20T17:15:33.537609Z",
     "start_time": "2022-04-20T17:15:33.522144Z"
    }
   },
   "outputs": [],
   "source": [
    "def arg_test(one, two=3, *args, **kwargs):\n",
    "    print(one, two)\n",
    "    print(args)\n",
    "    print(kwargs)"
   ]
  },
  {
   "cell_type": "code",
   "execution_count": 2,
   "id": "f9ffd21b",
   "metadata": {
    "ExecuteTime": {
     "end_time": "2022-04-20T17:15:53.757273Z",
     "start_time": "2022-04-20T17:15:53.747737Z"
    }
   },
   "outputs": [
    {
     "name": "stdout",
     "output_type": "stream",
     "text": [
      "10 300\n",
      "(1, 2, 3)\n",
      "{'a': 1, 'b': 2, 'c': 3}\n"
     ]
    }
   ],
   "source": [
    "arg_test(10,300, 1,2,3, a=1,b=2,c=3)"
   ]
  },
  {
   "cell_type": "code",
   "execution_count": 3,
   "id": "53e3429d",
   "metadata": {
    "ExecuteTime": {
     "end_time": "2022-04-20T17:16:08.565248Z",
     "start_time": "2022-04-20T17:16:08.552193Z"
    }
   },
   "outputs": [
    {
     "ename": "SyntaxError",
     "evalue": "positional argument follows keyword argument (<ipython-input-3-b23401baead6>, line 1)",
     "output_type": "error",
     "traceback": [
      "\u001b[0;36m  File \u001b[0;32m\"<ipython-input-3-b23401baead6>\"\u001b[0;36m, line \u001b[0;32m1\u001b[0m\n\u001b[0;31m    arg_test(10,two=300, 1,2,3, a=1,b=2,c=3)\u001b[0m\n\u001b[0m                         ^\u001b[0m\n\u001b[0;31mSyntaxError\u001b[0m\u001b[0;31m:\u001b[0m positional argument follows keyword argument\n"
     ]
    }
   ],
   "source": [
    "## two=300처럼 한번 키워드 arg로 넣어주면 그 뒤에 그냥 arg 못쓴다. (우선순위 때문)\n",
    "## 여기서 그냥 arg란 아무 지정없이 값만 넣어주는 것을 의미 ->positional argument\n",
    "## two=300 처럼 키워드를 지정해서 값을 넣어주는 것은 keyword argument라고 한다.\n",
    "arg_test(10,two=300, 1,2,3, a=1,b=2,c=3)"
   ]
  },
  {
   "cell_type": "code",
   "execution_count": 4,
   "id": "1d285bc1",
   "metadata": {
    "ExecuteTime": {
     "end_time": "2022-04-20T17:16:36.622874Z",
     "start_time": "2022-04-20T17:16:36.609873Z"
    }
   },
   "outputs": [
    {
     "name": "stdout",
     "output_type": "stream",
     "text": [
      "10 300\n",
      "()\n",
      "{'a': 1, 'b': 2, 'c': 3}\n"
     ]
    }
   ],
   "source": [
    "## 위에서 two=300 오른쪽의 arg 1,2,3을 모두 지워주면 *args에 아무것도 안들어가면서 동작은 한다.\n",
    "arg_test(10,two=300, a=1,b=2,c=3)"
   ]
  },
  {
   "cell_type": "code",
   "execution_count": null,
   "id": "81e2851c",
   "metadata": {},
   "outputs": [],
   "source": [
    "## 위에서 two=300 오른쪽의 arg 1,2,3을 모두 지워주면 *args에 아무것도 안들어가면서 동작은 한다.\n",
    "arg_test(10,300, a=1,b=2,c=3)"
   ]
  }
 ],
 "metadata": {
  "kernelspec": {
   "display_name": "Python 3",
   "language": "python",
   "name": "python3"
  },
  "language_info": {
   "codemirror_mode": {
    "name": "ipython",
    "version": 3
   },
   "file_extension": ".py",
   "mimetype": "text/x-python",
   "name": "python",
   "nbconvert_exporter": "python",
   "pygments_lexer": "ipython3",
   "version": "3.8.12"
  },
  "toc": {
   "base_numbering": 1,
   "nav_menu": {},
   "number_sections": true,
   "sideBar": true,
   "skip_h1_title": false,
   "title_cell": "Table of Contents",
   "title_sidebar": "Contents",
   "toc_cell": false,
   "toc_position": {},
   "toc_section_display": true,
   "toc_window_display": false
  }
 },
 "nbformat": 4,
 "nbformat_minor": 5
}
