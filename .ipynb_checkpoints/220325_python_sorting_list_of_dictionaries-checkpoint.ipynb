{
 "cells": [
  {
   "cell_type": "code",
   "execution_count": 1,
   "id": "c7ae0840",
   "metadata": {
    "ExecuteTime": {
     "end_time": "2022-03-24T15:44:01.660086Z",
     "start_time": "2022-03-24T15:44:01.644592Z"
    }
   },
   "outputs": [],
   "source": [
    "li = [{'name':'Ace', 'age':87}, {'name':'Bella', 'age':10}]\n",
    "\n",
    "# name을 기준으로 사전순 정렬\n",
    "print(sorted(li , key= lambda x: x['name'])) \n",
    "## Output : [{'name': 'Ace', 'age': 87}, {'name': 'Bella', 'age': 10}]\n",
    "\n",
    "# name을 기준으로 사전 역순으로 정렬\n",
    "print(sorted(li , key= lambda x: x['name'], reverse=True)) \n",
    "## Output : [{'name': 'Ace', 'age': 87}, {'name': 'Bella', 'age': 10}]\n",
    "\n",
    "\n",
    "from operator import itemgetter\n",
    "# itemgetter이용 name 기준으로 사전순 정렬\n",
    "print(sorted(li, key=itemgetter('name')))\n",
    "## Output : [{'name': 'Ace', 'age': 87}, {'name': 'Bella', 'age': 10}]\n",
    "\n",
    "# age 기준으로 사전순 정렬 (숫자도 가능)\n",
    "print(sorted(li, key=itemgetter('age')))\n",
    "## Output : [{'name': 'Bella', 'age': 10}, {'name': 'Ace', 'age': 87}]"
   ]
  },
  {
   "cell_type": "markdown",
   "id": "f828bde9",
   "metadata": {},
   "source": [
    "## 개별 코드 실행"
   ]
  },
  {
   "cell_type": "markdown",
   "id": "f5c44804",
   "metadata": {},
   "source": [
    "### li 정의 "
   ]
  },
  {
   "cell_type": "code",
   "execution_count": 37,
   "id": "fd239359",
   "metadata": {
    "ExecuteTime": {
     "end_time": "2022-03-24T16:23:32.926144Z",
     "start_time": "2022-03-24T16:23:32.903743Z"
    }
   },
   "outputs": [],
   "source": [
    "li = [{'name':'Ace', 'age':87}, {'name':'Bella', 'age':10}]"
   ]
  },
  {
   "cell_type": "markdown",
   "id": "37ff6036",
   "metadata": {},
   "source": [
    "### lambda 이용"
   ]
  },
  {
   "cell_type": "code",
   "execution_count": 38,
   "id": "9242ff45",
   "metadata": {
    "ExecuteTime": {
     "end_time": "2022-03-24T16:23:36.801970Z",
     "start_time": "2022-03-24T16:23:36.789768Z"
    }
   },
   "outputs": [
    {
     "data": {
      "text/plain": [
       "[{'name': 'Ace', 'age': 87}, {'name': 'Bella', 'age': 10}]"
      ]
     },
     "execution_count": 38,
     "metadata": {},
     "output_type": "execute_result"
    }
   ],
   "source": [
    "sorted(li , key= lambda x: x['name'])"
   ]
  },
  {
   "cell_type": "markdown",
   "id": "16ee5ef8",
   "metadata": {},
   "source": [
    "### lambda 이용 - reverse=True (역순)"
   ]
  },
  {
   "cell_type": "code",
   "execution_count": 22,
   "id": "9b010948",
   "metadata": {
    "ExecuteTime": {
     "end_time": "2022-03-24T16:20:51.544949Z",
     "start_time": "2022-03-24T16:20:51.532890Z"
    }
   },
   "outputs": [
    {
     "data": {
      "text/plain": [
       "[{'name': 'Bella', 'age': 10}, {'name': 'Ace', 'age': 87}]"
      ]
     },
     "execution_count": 22,
     "metadata": {},
     "output_type": "execute_result"
    }
   ],
   "source": [
    "sorted(li , key= lambda x: x['name'], reverse=True)"
   ]
  },
  {
   "cell_type": "markdown",
   "id": "3eb81c0f",
   "metadata": {},
   "source": [
    "### itemgetter 이용"
   ]
  },
  {
   "cell_type": "code",
   "execution_count": 39,
   "id": "99fb1780",
   "metadata": {
    "ExecuteTime": {
     "end_time": "2022-03-24T16:24:10.574334Z",
     "start_time": "2022-03-24T16:24:10.562851Z"
    }
   },
   "outputs": [
    {
     "data": {
      "text/plain": [
       "[{'name': 'Ace', 'age': 87}, {'name': 'Bella', 'age': 10}]"
      ]
     },
     "execution_count": 39,
     "metadata": {},
     "output_type": "execute_result"
    }
   ],
   "source": [
    "from operator import itemgetter\n",
    "sorted(li, key=itemgetter('name'))"
   ]
  },
  {
   "cell_type": "code",
   "execution_count": 25,
   "id": "bf10c255",
   "metadata": {
    "ExecuteTime": {
     "end_time": "2022-03-24T16:20:54.906478Z",
     "start_time": "2022-03-24T16:20:54.896296Z"
    }
   },
   "outputs": [
    {
     "data": {
      "text/plain": [
       "[{'name': 'Bella', 'age': 10}, {'name': 'Ace', 'age': 87}]"
      ]
     },
     "execution_count": 25,
     "metadata": {},
     "output_type": "execute_result"
    }
   ],
   "source": [
    "sorted(li, key=itemgetter('age'))"
   ]
  },
  {
   "cell_type": "markdown",
   "id": "81ef35b6",
   "metadata": {},
   "source": [
    "## 성능 비교"
   ]
  },
  {
   "cell_type": "code",
   "execution_count": 41,
   "id": "4fff2e81",
   "metadata": {
    "ExecuteTime": {
     "end_time": "2022-03-24T16:25:36.650240Z",
     "start_time": "2022-03-24T16:25:36.636680Z"
    }
   },
   "outputs": [
    {
     "data": {
      "text/plain": [
       "2097152"
      ]
     },
     "execution_count": 41,
     "metadata": {},
     "output_type": "execute_result"
    }
   ],
   "source": [
    "len(li)"
   ]
  },
  {
   "cell_type": "code",
   "execution_count": 42,
   "id": "acef7d63",
   "metadata": {
    "ExecuteTime": {
     "end_time": "2022-03-24T16:25:39.800594Z",
     "start_time": "2022-03-24T16:25:38.347120Z"
    }
   },
   "outputs": [
    {
     "name": "stdout",
     "output_type": "stream",
     "text": [
      "177 ms ± 1.97 ms per loop (mean ± std. dev. of 7 runs, 1 loop each)\n"
     ]
    }
   ],
   "source": [
    "%%timeit\n",
    "sorted(li , key= lambda x: x['name'])"
   ]
  },
  {
   "cell_type": "code",
   "execution_count": 45,
   "id": "8cd1806d",
   "metadata": {
    "ExecuteTime": {
     "end_time": "2022-03-24T16:26:51.878341Z",
     "start_time": "2022-03-24T16:26:39.761315Z"
    }
   },
   "outputs": [
    {
     "name": "stdout",
     "output_type": "stream",
     "text": [
      "149 ms ± 548 µs per loop (mean ± std. dev. of 7 runs, 10 loops each)\n"
     ]
    }
   ],
   "source": [
    "%%timeit\n",
    "sorted(li, key=itemgetter('name'))"
   ]
  }
 ],
 "metadata": {
  "kernelspec": {
   "display_name": "Python 3",
   "language": "python",
   "name": "python3"
  },
  "language_info": {
   "codemirror_mode": {
    "name": "ipython",
    "version": 3
   },
   "file_extension": ".py",
   "mimetype": "text/x-python",
   "name": "python",
   "nbconvert_exporter": "python",
   "pygments_lexer": "ipython3",
   "version": "3.8.12"
  },
  "toc": {
   "base_numbering": 1,
   "nav_menu": {},
   "number_sections": true,
   "sideBar": true,
   "skip_h1_title": false,
   "title_cell": "Table of Contents",
   "title_sidebar": "Contents",
   "toc_cell": false,
   "toc_position": {},
   "toc_section_display": true,
   "toc_window_display": false
  }
 },
 "nbformat": 4,
 "nbformat_minor": 5
}
