{
 "cells": [
  {
   "cell_type": "markdown",
   "id": "6c3f122e",
   "metadata": {},
   "source": [
    "## 2가지 unpacking\n",
    "1. sequence형 데이터 언패킹 * (1개)\n",
    "2. dict Type 데이터 언패킹 ** (2개)"
   ]
  },
  {
   "cell_type": "code",
   "execution_count": 2,
   "id": "798a853b",
   "metadata": {
    "ExecuteTime": {
     "end_time": "2022-04-20T17:24:52.610882Z",
     "start_time": "2022-04-20T17:24:52.604836Z"
    }
   },
   "outputs": [
    {
     "name": "stdout",
     "output_type": "stream",
     "text": [
      "1 2 3\n"
     ]
    }
   ],
   "source": [
    "data=[1,2,3]\n",
    "print(*data)"
   ]
  },
  {
   "cell_type": "code",
   "execution_count": 10,
   "id": "db0f3bba",
   "metadata": {
    "ExecuteTime": {
     "end_time": "2022-04-20T17:26:40.611288Z",
     "start_time": "2022-04-20T17:26:40.603995Z"
    }
   },
   "outputs": [],
   "source": [
    "def double_unpack(A,B,C):\n",
    "    print(A,B,C)"
   ]
  },
  {
   "cell_type": "code",
   "execution_count": 13,
   "id": "c4614ccc",
   "metadata": {
    "ExecuteTime": {
     "end_time": "2022-04-20T17:26:55.133481Z",
     "start_time": "2022-04-20T17:26:55.120531Z"
    }
   },
   "outputs": [
    {
     "name": "stdout",
     "output_type": "stream",
     "text": [
      "A B C\n",
      "1 2 3\n"
     ]
    }
   ],
   "source": [
    "data2={'A':1, 'B':2, 'C':3}\n",
    "double_unpack(*data2) # 그냥 하면 dict의 키값만 출력\n",
    "double_unpack(**data2) ## 더블 언패킹하면 A=1, B=2, C=3효과 -> 1 2 3 출력"
   ]
  },
  {
   "cell_type": "markdown",
   "id": "e51946c9",
   "metadata": {},
   "source": [
    "## zip과 unpacking - 이중리스트일때\n",
    "    - unpacking container"
   ]
  },
  {
   "cell_type": "code",
   "execution_count": 20,
   "id": "b3a1fb4d",
   "metadata": {
    "ExecuteTime": {
     "end_time": "2022-04-20T17:29:20.093054Z",
     "start_time": "2022-04-20T17:29:20.083830Z"
    }
   },
   "outputs": [],
   "source": [
    "data=[[1,2],[3,4]]"
   ]
  },
  {
   "cell_type": "code",
   "execution_count": 21,
   "id": "6e843626",
   "metadata": {
    "ExecuteTime": {
     "end_time": "2022-04-20T17:29:20.386101Z",
     "start_time": "2022-04-20T17:29:20.378760Z"
    }
   },
   "outputs": [
    {
     "name": "stdout",
     "output_type": "stream",
     "text": [
      "([1, 2],)\n",
      "([3, 4],)\n"
     ]
    }
   ],
   "source": [
    "for i in zip(data):\n",
    "    print(i)"
   ]
  },
  {
   "cell_type": "code",
   "execution_count": 22,
   "id": "d74692dc",
   "metadata": {
    "ExecuteTime": {
     "end_time": "2022-04-20T17:29:23.205196Z",
     "start_time": "2022-04-20T17:29:23.193212Z"
    }
   },
   "outputs": [
    {
     "name": "stdout",
     "output_type": "stream",
     "text": [
      "(1, 3)\n",
      "(2, 4)\n"
     ]
    }
   ],
   "source": [
    "for i in zip(*data):\n",
    "    print(i)"
   ]
  },
  {
   "cell_type": "code",
   "execution_count": null,
   "id": "03052a81",
   "metadata": {},
   "outputs": [],
   "source": []
  }
 ],
 "metadata": {
  "kernelspec": {
   "display_name": "Python 3",
   "language": "python",
   "name": "python3"
  },
  "language_info": {
   "codemirror_mode": {
    "name": "ipython",
    "version": 3
   },
   "file_extension": ".py",
   "mimetype": "text/x-python",
   "name": "python",
   "nbconvert_exporter": "python",
   "pygments_lexer": "ipython3",
   "version": "3.8.12"
  },
  "toc": {
   "base_numbering": 1,
   "nav_menu": {},
   "number_sections": true,
   "sideBar": true,
   "skip_h1_title": false,
   "title_cell": "Table of Contents",
   "title_sidebar": "Contents",
   "toc_cell": false,
   "toc_position": {},
   "toc_section_display": true,
   "toc_window_display": false
  }
 },
 "nbformat": 4,
 "nbformat_minor": 5
}
