{
 "cells": [
  {
   "cell_type": "markdown",
   "id": "b265f8f5",
   "metadata": {},
   "source": [
    "## [Python] 순서 유지하며 두 리스트 교집합 구하기 (리스트컴프리핸션)"
   ]
  },
  {
   "cell_type": "markdown",
   "id": "acf3f4ef",
   "metadata": {},
   "source": [
    "### 전체 코드"
   ]
  },
  {
   "cell_type": "code",
   "execution_count": 6,
   "id": "223b8107",
   "metadata": {
    "ExecuteTime": {
     "end_time": "2022-03-22T12:39:39.954716Z",
     "start_time": "2022-03-22T12:39:39.948208Z"
    }
   },
   "outputs": [],
   "source": [
    "a = [1,2,3,4,5]\n",
    "b = [5,4,3]\n",
    "c = [3,4,5]\n",
    "\n",
    "[_ for _ in a if _ in c] # a순서 기준\n",
    "# Output: [3, 4, 5]\n",
    "\n",
    "[_ for _ in b if _ in c] # b순서 기준\n",
    "# Output: [5, 4, 3]"
   ]
  },
  {
   "cell_type": "markdown",
   "id": "adfcf20f",
   "metadata": {},
   "source": [
    "### 개별 실행"
   ]
  },
  {
   "cell_type": "code",
   "execution_count": 12,
   "id": "54e0140e",
   "metadata": {
    "ExecuteTime": {
     "end_time": "2022-03-22T12:46:43.340116Z",
     "start_time": "2022-03-22T12:46:43.328530Z"
    }
   },
   "outputs": [
    {
     "data": {
      "text/plain": [
       "[3, 4, 5]"
      ]
     },
     "execution_count": 12,
     "metadata": {},
     "output_type": "execute_result"
    }
   ],
   "source": [
    "a = [1,2,3,4,5]\n",
    "c = [3,4,5]\n",
    "[_ for _ in a if _ in c]"
   ]
  },
  {
   "cell_type": "code",
   "execution_count": 13,
   "id": "a6c63721",
   "metadata": {
    "ExecuteTime": {
     "end_time": "2022-03-22T12:46:49.188620Z",
     "start_time": "2022-03-22T12:46:49.181563Z"
    }
   },
   "outputs": [
    {
     "data": {
      "text/plain": [
       "[5, 4, 3]"
      ]
     },
     "execution_count": 13,
     "metadata": {},
     "output_type": "execute_result"
    }
   ],
   "source": [
    "b = [5,4,3]\n",
    "c = [3,4,5]\n",
    "[_ for _ in b if _ in c]"
   ]
  }
 ],
 "metadata": {
  "kernelspec": {
   "display_name": "Python 3",
   "language": "python",
   "name": "python3"
  },
  "language_info": {
   "codemirror_mode": {
    "name": "ipython",
    "version": 3
   },
   "file_extension": ".py",
   "mimetype": "text/x-python",
   "name": "python",
   "nbconvert_exporter": "python",
   "pygments_lexer": "ipython3",
   "version": "3.8.12"
  },
  "toc": {
   "base_numbering": 1,
   "nav_menu": {},
   "number_sections": true,
   "sideBar": true,
   "skip_h1_title": false,
   "title_cell": "Table of Contents",
   "title_sidebar": "Contents",
   "toc_cell": false,
   "toc_position": {},
   "toc_section_display": true,
   "toc_window_display": false
  }
 },
 "nbformat": 4,
 "nbformat_minor": 5
}
