{
 "cells": [
  {
   "cell_type": "markdown",
   "metadata": {},
   "source": [
    "# map 함수 기초 예시"
   ]
  },
  {
   "cell_type": "code",
   "execution_count": 1,
   "metadata": {},
   "outputs": [
    {
     "data": {
      "text/plain": [
       "[3.141592653589793, 28.274333882308138, 78.53981633974483, 153.93804002589985]"
      ]
     },
     "execution_count": 1,
     "metadata": {},
     "output_type": "execute_result"
    }
   ],
   "source": [
    "import math # math 라이브러리 불러오기\n",
    "\n",
    "radius_li = [1,3,5,7] # 반지름 리스트\n",
    "\n",
    "def area(r):\n",
    "    return math.pi * (r**2) # math.pi는 원주율값을 갖습니다.\n",
    "\n",
    "list(map(area,radius_li)) \n",
    "#리스트 값: [3.141592653589793, 28.274333882308138, 78.53981633974483, 153.93804002589985]"
   ]
  },
  {
   "cell_type": "markdown",
   "metadata": {},
   "source": [
    "# lambda 함수 기초 예시"
   ]
  },
  {
   "cell_type": "code",
   "execution_count": 2,
   "metadata": {},
   "outputs": [
    {
     "data": {
      "text/plain": [
       "[3.141592653589793, 28.274333882308138, 78.53981633974483, 153.93804002589985]"
      ]
     },
     "execution_count": 2,
     "metadata": {},
     "output_type": "execute_result"
    }
   ],
   "source": [
    "list(map(area,radius_li)) \n",
    "# 출력 : [3.141592653589793, 28.274333882308138, 78.53981633974483, 153.93804002589985]\n",
    "\n",
    "list(map(lambda x: math.pi * (x**2), radius_li))\n",
    "# 출력: [3.141592653589793, 28.274333882308138, 78.53981633974483, 153.93804002589985]"
   ]
  },
  {
   "cell_type": "markdown",
   "metadata": {},
   "source": [
    "# lambda와 map 자주 쓰는 예시"
   ]
  },
  {
   "cell_type": "code",
   "execution_count": 3,
   "metadata": {},
   "outputs": [
    {
     "data": {
      "text/plain": [
       "['apple', 'banana', 'grape']"
      ]
     },
     "execution_count": 3,
     "metadata": {},
     "output_type": "execute_result"
    }
   ],
   "source": [
    "string = ['a pple','ba nana','gr ape']\n",
    "\n",
    "list(map(lambda x: x.replace(' ',''),string)) # ['apple', 'banana', 'grape']"
   ]
  },
  {
   "cell_type": "markdown",
   "metadata": {},
   "source": [
    "# map 객체"
   ]
  },
  {
   "cell_type": "code",
   "execution_count": 4,
   "metadata": {},
   "outputs": [
    {
     "data": {
      "text/plain": [
       "<map at 0x1e0a17b3160>"
      ]
     },
     "execution_count": 4,
     "metadata": {},
     "output_type": "execute_result"
    }
   ],
   "source": [
    "map(lambda x: x.replace(' ',''),string)"
   ]
  }
 ],
 "metadata": {
  "kernelspec": {
   "display_name": "Python 3",
   "language": "python",
   "name": "python3"
  },
  "language_info": {
   "codemirror_mode": {
    "name": "ipython",
    "version": 3
   },
   "file_extension": ".py",
   "mimetype": "text/x-python",
   "name": "python",
   "nbconvert_exporter": "python",
   "pygments_lexer": "ipython3",
   "version": "3.7.3"
  }
 },
 "nbformat": 4,
 "nbformat_minor": 2
}
