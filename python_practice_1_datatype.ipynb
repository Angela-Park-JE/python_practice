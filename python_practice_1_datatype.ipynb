{
 "cells": [
  {
   "cell_type": "markdown",
   "metadata": {},
   "source": [
    "## 숫자형"
   ]
  },
  {
   "cell_type": "markdown",
   "metadata": {},
   "source": [
    "### 정수형(int)"
   ]
  },
  {
   "cell_type": "code",
   "execution_count": null,
   "metadata": {
    "ExecuteTime": {
     "end_time": "2020-08-11T12:43:11.276333Z",
     "start_time": "2020-08-11T12:43:11.259896Z"
    },
    "scrolled": true
   },
   "outputs": [],
   "source": [
    "d = 1\n",
    "d"
   ]
  },
  {
   "cell_type": "code",
   "execution_count": null,
   "metadata": {
    "ExecuteTime": {
     "end_time": "2020-08-11T12:43:11.284450Z",
     "start_time": "2020-08-11T12:43:11.279830Z"
    }
   },
   "outputs": [],
   "source": [
    "d = -10\n",
    "print(d)"
   ]
  },
  {
   "cell_type": "code",
   "execution_count": null,
   "metadata": {
    "ExecuteTime": {
     "end_time": "2020-08-11T12:43:11.292724Z",
     "start_time": "2020-08-11T12:43:11.288447Z"
    }
   },
   "outputs": [],
   "source": [
    "type(d)"
   ]
  },
  {
   "cell_type": "markdown",
   "metadata": {},
   "source": [
    "### 실수형(float)"
   ]
  },
  {
   "cell_type": "code",
   "execution_count": null,
   "metadata": {
    "ExecuteTime": {
     "end_time": "2020-08-11T12:43:11.299803Z",
     "start_time": "2020-08-11T12:43:11.295600Z"
    }
   },
   "outputs": [],
   "source": [
    "f = 3.14\n",
    "f"
   ]
  },
  {
   "cell_type": "code",
   "execution_count": null,
   "metadata": {
    "ExecuteTime": {
     "end_time": "2020-08-11T12:43:11.308060Z",
     "start_time": "2020-08-11T12:43:11.303275Z"
    }
   },
   "outputs": [],
   "source": [
    "type(f)"
   ]
  },
  {
   "cell_type": "code",
   "execution_count": null,
   "metadata": {
    "ExecuteTime": {
     "end_time": "2020-08-11T12:43:11.313906Z",
     "start_time": "2020-08-11T12:43:11.310507Z"
    }
   },
   "outputs": [],
   "source": [
    "# 정수 -> 실수\n",
    "float(d)"
   ]
  },
  {
   "cell_type": "markdown",
   "metadata": {},
   "source": [
    "### 복소수(complex)"
   ]
  },
  {
   "cell_type": "code",
   "execution_count": null,
   "metadata": {
    "ExecuteTime": {
     "end_time": "2020-08-11T12:43:11.319396Z",
     "start_time": "2020-08-11T12:43:11.316126Z"
    }
   },
   "outputs": [],
   "source": [
    "c = complex(10,5)\n",
    "c"
   ]
  },
  {
   "cell_type": "code",
   "execution_count": null,
   "metadata": {
    "ExecuteTime": {
     "end_time": "2020-08-11T12:43:11.324407Z",
     "start_time": "2020-08-11T12:43:11.321288Z"
    }
   },
   "outputs": [],
   "source": [
    "c2 = 10-5j\n",
    "print(c2)\n",
    "print(type(c2))"
   ]
  },
  {
   "cell_type": "markdown",
   "metadata": {},
   "source": [
    "## 문자열(str)"
   ]
  },
  {
   "cell_type": "code",
   "execution_count": null,
   "metadata": {
    "ExecuteTime": {
     "end_time": "2020-08-11T12:43:11.330060Z",
     "start_time": "2020-08-11T12:43:11.327425Z"
    }
   },
   "outputs": [],
   "source": [
    "s1 = 'a'\n",
    "s2 = 'apple'\n",
    "s3 = 'pan pineapple apple pan'"
   ]
  },
  {
   "cell_type": "code",
   "execution_count": null,
   "metadata": {
    "ExecuteTime": {
     "end_time": "2020-08-11T12:43:11.335581Z",
     "start_time": "2020-08-11T12:43:11.332617Z"
    }
   },
   "outputs": [],
   "source": [
    "print(type(s1))\n",
    "print(type(s2))\n",
    "print(type(s3))"
   ]
  },
  {
   "cell_type": "markdown",
   "metadata": {},
   "source": [
    "## 리스트(list)"
   ]
  },
  {
   "cell_type": "code",
   "execution_count": null,
   "metadata": {
    "ExecuteTime": {
     "end_time": "2020-08-11T12:43:11.340678Z",
     "start_time": "2020-08-11T12:43:11.338099Z"
    }
   },
   "outputs": [],
   "source": [
    "l1 = [1]\n",
    "l2 = ['a','2',3]\n",
    "l3 = [1,2,3,s3,l2,[1,2]] # s3이라는 변수를 요소로 쓸 수도 있다."
   ]
  },
  {
   "cell_type": "code",
   "execution_count": null,
   "metadata": {
    "ExecuteTime": {
     "end_time": "2020-08-11T12:43:11.345526Z",
     "start_time": "2020-08-11T12:43:11.342061Z"
    }
   },
   "outputs": [],
   "source": [
    "print(type(l1))\n",
    "print(type(l2))\n",
    "print(type(l3))"
   ]
  },
  {
   "cell_type": "code",
   "execution_count": null,
   "metadata": {
    "ExecuteTime": {
     "end_time": "2020-08-11T12:43:11.350539Z",
     "start_time": "2020-08-11T12:43:11.347035Z"
    }
   },
   "outputs": [],
   "source": [
    "print(l3)"
   ]
  },
  {
   "cell_type": "markdown",
   "metadata": {},
   "source": [
    "## 튜플(tuple)"
   ]
  },
  {
   "cell_type": "code",
   "execution_count": null,
   "metadata": {
    "ExecuteTime": {
     "end_time": "2020-08-11T12:43:11.356692Z",
     "start_time": "2020-08-11T12:43:11.353149Z"
    }
   },
   "outputs": [],
   "source": [
    "t = (1,2,3)\n",
    "t2 = (1, 3, 5, (s1,s2))"
   ]
  },
  {
   "cell_type": "code",
   "execution_count": null,
   "metadata": {
    "ExecuteTime": {
     "end_time": "2020-08-11T12:43:11.363391Z",
     "start_time": "2020-08-11T12:43:11.359894Z"
    }
   },
   "outputs": [],
   "source": [
    "print(t, type(t))\n",
    "print(t2 , type(t2))"
   ]
  },
  {
   "cell_type": "markdown",
   "metadata": {},
   "source": [
    "### 리스트와 튜플의 생성속도 차이"
   ]
  },
  {
   "cell_type": "code",
   "execution_count": null,
   "metadata": {
    "ExecuteTime": {
     "end_time": "2020-08-11T12:43:18.724180Z",
     "start_time": "2020-08-11T12:43:11.365179Z"
    }
   },
   "outputs": [],
   "source": [
    "%%timeit\n",
    "li = [0,1,2,3,4,5,6,7,8,9,10,11,12,13,14,15,16,17,18,19,20,21,22,23,24,25,26,27,28,29,30,31,32,33,34,35,36,37,38,39,40,41,42,43,44,45,46,47,48,49,50,51,52,53,54,55,56,57,58,59,60,61,62,63,64,65,66,67,68,69,70,71,72,73,74,75,76,77,78,79,80,81,82,83,84,85,86,87,88,89,90,91,92,93,94,95,96,97,98,99]"
   ]
  },
  {
   "cell_type": "code",
   "execution_count": null,
   "metadata": {
    "ExecuteTime": {
     "end_time": "2020-08-11T12:43:20.397811Z",
     "start_time": "2020-08-11T12:43:18.729334Z"
    }
   },
   "outputs": [],
   "source": [
    "%%timeit\n",
    "tu = (0,1,2,3,4,5,6,7,8,9,10,11,12,13,14,15,16,17,18,19,20,21,22,23,24,25,26,27,28,29,30,31,32,33,34,35,36,37,38,39,40,41,42,43,44,45,46,47,48,49,50,51,52,53,54,55,56,57,58,59,60,61,62,63,64,65,66,67,68,69,70,71,72,73,74,75,76,77,78,79,80,81,82,83,84,85,86,87,88,89,90,91,92,93,94,95,96,97,98,99)"
   ]
  },
  {
   "cell_type": "markdown",
   "metadata": {},
   "source": [
    "## 딕셔너리(dictionary)"
   ]
  },
  {
   "cell_type": "code",
   "execution_count": null,
   "metadata": {
    "ExecuteTime": {
     "end_time": "2020-08-11T12:43:20.405123Z",
     "start_time": "2020-08-11T12:43:20.400126Z"
    }
   },
   "outputs": [],
   "source": [
    "d1 = {'k1':'v1','k2':'v2'}\n",
    "d1['k1'] # 키값(k1)을 이용해 값(v1) 출력"
   ]
  },
  {
   "cell_type": "code",
   "execution_count": null,
   "metadata": {
    "ExecuteTime": {
     "end_time": "2020-08-11T12:43:20.411126Z",
     "start_time": "2020-08-11T12:43:20.407021Z"
    }
   },
   "outputs": [],
   "source": [
    "d1['k1'] = 'v3'\n",
    "d1"
   ]
  },
  {
   "cell_type": "code",
   "execution_count": null,
   "metadata": {
    "ExecuteTime": {
     "end_time": "2020-08-11T12:43:20.417324Z",
     "start_time": "2020-08-11T12:43:20.413143Z"
    }
   },
   "outputs": [],
   "source": [
    "d1 = {'k1':'v1','k2':'v2','k1':'v4'} # k1 값을 2번쓰면 마지막 k1값이 저장됩니다.\n",
    "d1"
   ]
  },
  {
   "cell_type": "code",
   "execution_count": null,
   "metadata": {
    "ExecuteTime": {
     "end_time": "2020-08-11T12:43:20.423002Z",
     "start_time": "2020-08-11T12:43:20.419331Z"
    }
   },
   "outputs": [],
   "source": [
    "d1[ (1,2) ] = 1\n",
    "d1"
   ]
  },
  {
   "cell_type": "code",
   "execution_count": null,
   "metadata": {
    "ExecuteTime": {
     "end_time": "2020-08-11T12:43:20.475886Z",
     "start_time": "2020-08-11T12:43:20.424903Z"
    }
   },
   "outputs": [],
   "source": [
    "d1[ [1,2] ] = 1"
   ]
  },
  {
   "cell_type": "markdown",
   "metadata": {},
   "source": [
    "## 집합(set)"
   ]
  },
  {
   "cell_type": "code",
   "execution_count": 25,
   "metadata": {
    "ExecuteTime": {
     "end_time": "2020-08-11T12:44:07.782990Z",
     "start_time": "2020-08-11T12:44:07.774592Z"
    }
   },
   "outputs": [
    {
     "name": "stdout",
     "output_type": "stream",
     "text": [
      "apple\n"
     ]
    }
   ],
   "source": [
    "set1 = set([1,2,3,4,5,5,5,5,5,5])\n",
    "set2 = set(s2)\n",
    "print(s2)"
   ]
  },
  {
   "cell_type": "code",
   "execution_count": 26,
   "metadata": {
    "ExecuteTime": {
     "end_time": "2020-08-11T12:44:07.956726Z",
     "start_time": "2020-08-11T12:44:07.950233Z"
    }
   },
   "outputs": [
    {
     "name": "stdout",
     "output_type": "stream",
     "text": [
      "{1, 2, 3, 4, 5}\n",
      "{'l', 'p', 'a', 'e'}\n"
     ]
    }
   ],
   "source": [
    "print(set1)\n",
    "print(set2)"
   ]
  },
  {
   "cell_type": "markdown",
   "metadata": {},
   "source": [
    "## 불(bool)"
   ]
  },
  {
   "cell_type": "code",
   "execution_count": 29,
   "metadata": {
    "ExecuteTime": {
     "end_time": "2020-08-11T12:46:10.634121Z",
     "start_time": "2020-08-11T12:46:10.625643Z"
    }
   },
   "outputs": [
    {
     "data": {
      "text/plain": [
       "bool"
      ]
     },
     "execution_count": 29,
     "metadata": {},
     "output_type": "execute_result"
    }
   ],
   "source": [
    "type(True)"
   ]
  },
  {
   "cell_type": "code",
   "execution_count": 27,
   "metadata": {
    "ExecuteTime": {
     "end_time": "2020-08-11T12:45:15.766304Z",
     "start_time": "2020-08-11T12:45:15.759591Z"
    }
   },
   "outputs": [
    {
     "name": "stdout",
     "output_type": "stream",
     "text": [
      "참 입니다.\n"
     ]
    }
   ],
   "source": [
    "if True:\n",
    "    print('참 입니다.')"
   ]
  },
  {
   "cell_type": "code",
   "execution_count": 30,
   "metadata": {
    "ExecuteTime": {
     "end_time": "2020-08-11T12:46:35.192589Z",
     "start_time": "2020-08-11T12:46:35.185072Z"
    }
   },
   "outputs": [
    {
     "name": "stdout",
     "output_type": "stream",
     "text": [
      "0이 아닌 수는 모두 True!\n"
     ]
    }
   ],
   "source": [
    "if 1:\n",
    "    print(\"0이 아닌 수는 모두 True!\")\n",
    "if 0:\n",
    "    print(\"0은 False기 떄문에 이건 출력안됨.\")"
   ]
  },
  {
   "cell_type": "code",
   "execution_count": 31,
   "metadata": {
    "ExecuteTime": {
     "end_time": "2020-08-11T12:47:15.560897Z",
     "start_time": "2020-08-11T12:47:15.555572Z"
    }
   },
   "outputs": [],
   "source": [
    "if []:\n",
    "    print(\"빈 리스트는 False라 출력안됨\")"
   ]
  },
  {
   "cell_type": "code",
   "execution_count": 34,
   "metadata": {
    "ExecuteTime": {
     "end_time": "2020-08-11T12:48:38.547946Z",
     "start_time": "2020-08-11T12:48:38.544883Z"
    }
   },
   "outputs": [],
   "source": [
    "if dict():\n",
    "    print(\"빈 딕셔너리를 위처럼 표현할 수도 있습니다.\")"
   ]
  },
  {
   "cell_type": "code",
   "execution_count": 32,
   "metadata": {
    "ExecuteTime": {
     "end_time": "2020-08-11T12:47:37.358006Z",
     "start_time": "2020-08-11T12:47:37.344302Z"
    }
   },
   "outputs": [
    {
     "name": "stdout",
     "output_type": "stream",
     "text": [
      "앞에 not을 붙이면 False와 True가 반전됩니다.\n"
     ]
    }
   ],
   "source": [
    "if not ():\n",
    "    print(\"앞에 not을 붙이면 False와 True가 반전됩니다.\")"
   ]
  },
  {
   "cell_type": "code",
   "execution_count": 33,
   "metadata": {
    "ExecuteTime": {
     "end_time": "2020-08-11T12:48:13.689561Z",
     "start_time": "2020-08-11T12:48:13.682620Z"
    }
   },
   "outputs": [
    {
     "name": "stdout",
     "output_type": "stream",
     "text": [
      "True\n"
     ]
    }
   ],
   "source": [
    "print(not False)"
   ]
  }
 ],
 "metadata": {
  "kernelspec": {
   "display_name": "Python 3",
   "language": "python",
   "name": "python3"
  },
  "toc": {
   "base_numbering": 1,
   "nav_menu": {},
   "number_sections": true,
   "sideBar": true,
   "skip_h1_title": false,
   "title_cell": "Table of Contents",
   "title_sidebar": "Contents",
   "toc_cell": false,
   "toc_position": {},
   "toc_section_display": true,
   "toc_window_display": false
  }
 },
 "nbformat": 4,
 "nbformat_minor": 4
}
