{
 "cells": [
  {
   "cell_type": "markdown",
   "metadata": {},
   "source": [
    "## 전체 코드"
   ]
  },
  {
   "cell_type": "code",
   "execution_count": 28,
   "metadata": {
    "ExecuteTime": {
     "end_time": "2020-08-25T10:04:49.307802Z",
     "start_time": "2020-08-25T10:04:49.294950Z"
    }
   },
   "outputs": [
    {
     "data": {
      "text/plain": [
       "'I became a zombie'"
      ]
     },
     "execution_count": 28,
     "metadata": {},
     "output_type": "execute_result"
    }
   ],
   "source": [
    "string = 'I became a zombie'\n",
    "list(string) # 공백을 포함 한 문자씩 모두 나눔\n",
    "\n",
    "string.split()\n",
    "\n",
    "# 'a'를 구분자로 쪼갭니다.\n",
    "string.split('a')\n",
    "\n",
    "# maxsplit은 최대 몇번 쪼갤지\n",
    "# 처음 으로 나오는 공백 I 와 became사이를 쪼갭니다.\n",
    "string.split(maxsplit=1)\n",
    "\n",
    "## 다시 합칠 수도 있음\n",
    "(',').join(string.split()) # ','를 구분자로 합치기\n",
    "\n",
    "(' ').join(string.split()) # 공백을 구분자로 합치기 -> 원래 문자열"
   ]
  },
  {
   "cell_type": "markdown",
   "metadata": {},
   "source": [
    "## list 함수 이용"
   ]
  },
  {
   "cell_type": "code",
   "execution_count": 19,
   "metadata": {
    "ExecuteTime": {
     "end_time": "2020-08-25T09:43:03.422689Z",
     "start_time": "2020-08-25T09:43:03.414742Z"
    }
   },
   "outputs": [
    {
     "data": {
      "text/plain": [
       "['I',\n",
       " ' ',\n",
       " 'b',\n",
       " 'e',\n",
       " 'c',\n",
       " 'a',\n",
       " 'm',\n",
       " 'e',\n",
       " ' ',\n",
       " 'a',\n",
       " ' ',\n",
       " 'z',\n",
       " 'o',\n",
       " 'm',\n",
       " 'b',\n",
       " 'i',\n",
       " 'e']"
      ]
     },
     "execution_count": 19,
     "metadata": {},
     "output_type": "execute_result"
    }
   ],
   "source": [
    "string = 'I became a zombie'\n",
    "list(string) # 공백을 포함 한 문자씩 모두 나눔"
   ]
  },
  {
   "cell_type": "markdown",
   "metadata": {},
   "source": [
    "### split 함수 이용"
   ]
  },
  {
   "cell_type": "code",
   "execution_count": 20,
   "metadata": {
    "ExecuteTime": {
     "end_time": "2020-08-25T09:43:05.236689Z",
     "start_time": "2020-08-25T09:43:05.229222Z"
    }
   },
   "outputs": [
    {
     "data": {
      "text/plain": [
       "['I', 'became', 'a', 'zombie']"
      ]
     },
     "execution_count": 20,
     "metadata": {},
     "output_type": "execute_result"
    }
   ],
   "source": [
    "string.split()"
   ]
  },
  {
   "cell_type": "markdown",
   "metadata": {},
   "source": [
    "### split() : 구분자 지정"
   ]
  },
  {
   "cell_type": "code",
   "execution_count": 26,
   "metadata": {
    "ExecuteTime": {
     "end_time": "2020-08-25T09:53:03.676635Z",
     "start_time": "2020-08-25T09:53:03.668805Z"
    }
   },
   "outputs": [
    {
     "data": {
      "text/plain": [
       "['I bec', 'me ', ' zombie']"
      ]
     },
     "execution_count": 26,
     "metadata": {},
     "output_type": "execute_result"
    }
   ],
   "source": [
    "# 'a'를 구분자로 쪼갭니다.\n",
    "string.split('a')"
   ]
  },
  {
   "cell_type": "markdown",
   "metadata": {},
   "source": [
    "### split() : maxsplit 지정"
   ]
  },
  {
   "cell_type": "code",
   "execution_count": 21,
   "metadata": {
    "ExecuteTime": {
     "end_time": "2020-08-25T09:43:05.452355Z",
     "start_time": "2020-08-25T09:43:05.444176Z"
    }
   },
   "outputs": [
    {
     "data": {
      "text/plain": [
       "['I', 'became a zombie']"
      ]
     },
     "execution_count": 21,
     "metadata": {},
     "output_type": "execute_result"
    }
   ],
   "source": [
    "# maxsplit은 최대 몇번 쪼갤지\n",
    "# 처음 으로 나오는 공백 I 와 became사이를 쪼갭니다.\n",
    "string.split(maxsplit=1)"
   ]
  },
  {
   "cell_type": "markdown",
   "metadata": {},
   "source": [
    "## 다시 합칠 수도 있음"
   ]
  },
  {
   "cell_type": "code",
   "execution_count": 23,
   "metadata": {
    "ExecuteTime": {
     "end_time": "2020-08-25T09:43:06.105687Z",
     "start_time": "2020-08-25T09:43:06.097946Z"
    }
   },
   "outputs": [
    {
     "data": {
      "text/plain": [
       "'I,became,a,zombie'"
      ]
     },
     "execution_count": 23,
     "metadata": {},
     "output_type": "execute_result"
    }
   ],
   "source": [
    "(',').join(string.split()) # ','를 구분자로 합치기"
   ]
  },
  {
   "cell_type": "code",
   "execution_count": 24,
   "metadata": {
    "ExecuteTime": {
     "end_time": "2020-08-25T09:43:06.506811Z",
     "start_time": "2020-08-25T09:43:06.499034Z"
    }
   },
   "outputs": [
    {
     "data": {
      "text/plain": [
       "'I became a zombie'"
      ]
     },
     "execution_count": 24,
     "metadata": {},
     "output_type": "execute_result"
    }
   ],
   "source": [
    "(' ').join(string.split()) # 공백을 구분자로 합치기 -> 원래 문자열"
   ]
  }
 ],
 "metadata": {
  "kernelspec": {
   "display_name": "Python 3",
   "language": "python",
   "name": "python3"
  },
  "language_info": {
   "codemirror_mode": {
    "name": "ipython",
    "version": 3
   },
   "file_extension": ".py",
   "mimetype": "text/x-python",
   "name": "python",
   "nbconvert_exporter": "python",
   "pygments_lexer": "ipython3",
   "version": "3.7.4"
  },
  "toc": {
   "base_numbering": 1,
   "nav_menu": {},
   "number_sections": true,
   "sideBar": true,
   "skip_h1_title": false,
   "title_cell": "Table of Contents",
   "title_sidebar": "Contents",
   "toc_cell": false,
   "toc_position": {},
   "toc_section_display": true,
   "toc_window_display": false
  }
 },
 "nbformat": 4,
 "nbformat_minor": 4
}
