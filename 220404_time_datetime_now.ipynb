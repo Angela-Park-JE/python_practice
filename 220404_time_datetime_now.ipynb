{
 "cells": [
  {
   "cell_type": "code",
   "execution_count": null,
   "id": "cbd026c2",
   "metadata": {},
   "outputs": [],
   "source": [
    "import time\n",
    "time.strftime('%Y.%m.%d - %H:%M:%S') # 년.월.일 - 시간\n",
    "# Output : '2022.04.04 - 01:33:26'\n",
    "time.strftime('%y%m%d - %X') # 년월일 - 시간\n",
    "# Output : '220404 - 01:35:57'\n",
    "time.strftime('%x %X') # 날짜 - 시간\n",
    "# Output : '04/04/22 01:37:57'\n",
    "time.strftime('%c') # 전체시간 정보 한번에\n",
    "# Output : 'Mon Apr  4 01:35:18 2022'\n",
    "\n",
    "from datetime import datetime\n",
    "## datetime.now()는 위의 time과 같은 기능.\n",
    "datetime.now().strftime('%Y.%m.%d - %H:%M:%S') # 년.월.일 - 시간\n",
    "datetime.now().strftime('%y%m%d - %X') # 년월일 - 시간\n",
    "datetime.now().strftime('%x %X') # 날짜 - 시간\n",
    "datetime.now().strftime('%c') # 전체시간 정보 한번에"
   ]
  },
  {
   "cell_type": "code",
   "execution_count": 7,
   "id": "1b1a3ddc",
   "metadata": {
    "ExecuteTime": {
     "end_time": "2022-04-03T16:31:41.689377Z",
     "start_time": "2022-04-03T16:31:41.673761Z"
    }
   },
   "outputs": [],
   "source": [
    "import time"
   ]
  },
  {
   "cell_type": "code",
   "execution_count": 8,
   "id": "fcdac4af",
   "metadata": {
    "ExecuteTime": {
     "end_time": "2022-04-03T16:33:26.202078Z",
     "start_time": "2022-04-03T16:33:26.184909Z"
    }
   },
   "outputs": [
    {
     "data": {
      "text/plain": [
       "'2022.04.04 - 01:33:26'"
      ]
     },
     "execution_count": 8,
     "metadata": {},
     "output_type": "execute_result"
    }
   ],
   "source": [
    "time.strftime('%Y.%m.%d - %H:%M:%S')"
   ]
  },
  {
   "cell_type": "code",
   "execution_count": 14,
   "id": "12a5548c",
   "metadata": {
    "ExecuteTime": {
     "end_time": "2022-04-03T16:35:57.954806Z",
     "start_time": "2022-04-03T16:35:57.943296Z"
    }
   },
   "outputs": [
    {
     "data": {
      "text/plain": [
       "'220404 - 01:35:57'"
      ]
     },
     "execution_count": 14,
     "metadata": {},
     "output_type": "execute_result"
    }
   ],
   "source": [
    "time.strftime('%y%m%d - %X')"
   ]
  },
  {
   "cell_type": "code",
   "execution_count": 15,
   "id": "8e1709fa",
   "metadata": {
    "ExecuteTime": {
     "end_time": "2022-04-03T16:37:57.061499Z",
     "start_time": "2022-04-03T16:37:57.050398Z"
    }
   },
   "outputs": [
    {
     "data": {
      "text/plain": [
       "'04/04/22 01:37:57'"
      ]
     },
     "execution_count": 15,
     "metadata": {},
     "output_type": "execute_result"
    }
   ],
   "source": [
    "time.strftime('%x %X')"
   ]
  },
  {
   "cell_type": "code",
   "execution_count": 13,
   "id": "54e989dc",
   "metadata": {
    "ExecuteTime": {
     "end_time": "2022-04-03T16:35:18.199402Z",
     "start_time": "2022-04-03T16:35:18.190760Z"
    }
   },
   "outputs": [
    {
     "data": {
      "text/plain": [
       "'Mon Apr  4 01:35:18 2022'"
      ]
     },
     "execution_count": 13,
     "metadata": {},
     "output_type": "execute_result"
    }
   ],
   "source": [
    "time.strftime('%c')"
   ]
  },
  {
   "cell_type": "code",
   "execution_count": 24,
   "id": "f48c8e23",
   "metadata": {
    "ExecuteTime": {
     "end_time": "2022-04-03T16:40:31.769403Z",
     "start_time": "2022-04-03T16:40:31.757959Z"
    }
   },
   "outputs": [
    {
     "data": {
      "text/plain": [
       "'2022.04.04 - 01:40:31'"
      ]
     },
     "execution_count": 24,
     "metadata": {},
     "output_type": "execute_result"
    }
   ],
   "source": [
    "from datetime import datetime\n",
    "datetime.now().strftime('%Y.%m.%d - %H:%M:%S')"
   ]
  },
  {
   "cell_type": "code",
   "execution_count": 27,
   "id": "26be9c62",
   "metadata": {
    "ExecuteTime": {
     "end_time": "2022-04-03T16:41:31.823265Z",
     "start_time": "2022-04-03T16:41:31.813607Z"
    }
   },
   "outputs": [
    {
     "data": {
      "text/plain": [
       "'220404 - 01:41:31'"
      ]
     },
     "execution_count": 27,
     "metadata": {},
     "output_type": "execute_result"
    }
   ],
   "source": [
    "datetime.now().strftime('%y%m%d - %X')"
   ]
  },
  {
   "cell_type": "code",
   "execution_count": 28,
   "id": "52f50b34",
   "metadata": {
    "ExecuteTime": {
     "end_time": "2022-04-03T16:41:32.075559Z",
     "start_time": "2022-04-03T16:41:32.059799Z"
    }
   },
   "outputs": [
    {
     "data": {
      "text/plain": [
       "'04/04/22 01:41:32'"
      ]
     },
     "execution_count": 28,
     "metadata": {},
     "output_type": "execute_result"
    }
   ],
   "source": [
    "datetime.now().strftime('%x %X')"
   ]
  },
  {
   "cell_type": "code",
   "execution_count": 29,
   "id": "80c3c466",
   "metadata": {
    "ExecuteTime": {
     "end_time": "2022-04-03T16:41:32.459248Z",
     "start_time": "2022-04-03T16:41:32.448417Z"
    }
   },
   "outputs": [
    {
     "data": {
      "text/plain": [
       "'Mon Apr  4 01:41:32 2022'"
      ]
     },
     "execution_count": 29,
     "metadata": {},
     "output_type": "execute_result"
    }
   ],
   "source": [
    "datetime.now().strftime('%c')"
   ]
  }
 ],
 "metadata": {
  "kernelspec": {
   "display_name": "Python 3",
   "language": "python",
   "name": "python3"
  },
  "language_info": {
   "codemirror_mode": {
    "name": "ipython",
    "version": 3
   },
   "file_extension": ".py",
   "mimetype": "text/x-python",
   "name": "python",
   "nbconvert_exporter": "python",
   "pygments_lexer": "ipython3",
   "version": "3.8.12"
  },
  "toc": {
   "base_numbering": 1,
   "nav_menu": {},
   "number_sections": true,
   "sideBar": true,
   "skip_h1_title": false,
   "title_cell": "Table of Contents",
   "title_sidebar": "Contents",
   "toc_cell": false,
   "toc_position": {},
   "toc_section_display": true,
   "toc_window_display": false
  }
 },
 "nbformat": 4,
 "nbformat_minor": 5
}
